{
 "cells": [
  {
   "cell_type": "code",
   "execution_count": 14,
   "metadata": {},
   "outputs": [],
   "source": [
    "import numpy as np\n",
    "import pandas as pd\n",
    "import matplotlib.pyplot as plt\n",
    "import scipy.stats as stats"
   ]
  },
  {
   "cell_type": "markdown",
   "metadata": {},
   "source": [
    "<h4> \n",
    "title: \"INET4061_Lab3 Jupyter Notebook\" <br> \n",
    "author: \"Sanjana Jonnalagadda\" <br> \n",
    "date: \"September 29, 2018\" <br> \n",
    "</h4> "
   ]
  },
  {
   "cell_type": "markdown",
   "metadata": {},
   "source": [
    "<font color=\"#581845\">\n",
    "<h1 align=\"center\"> Overview</h1>\n",
    "    \n",
    "<h3 align=\"left\"> \n",
    "1. Problem: </h3> \n",
    "<h4> \n",
    "The objective of this notebook is to use a one-way ANOVA test to identify how a random dataset of voters races correspond to their average ages. It is to see whether the voter age means among races are equal or if they differ and if so by how much is there a difference among age mean values among races. </h4> \n",
    "\n",
    "\n",
    "<h3 align=\"left\"> 2. References:  </h3>\n",
    " <ol> \n",
    "    <uli> http://hamelg.blogspot.com/2015/11/python-for-data-analysis-part-16_23.html</uli>\n",
    "    <br> <br> \n",
    "    <uli> http://statisticsbyjim.com/anova/f-tests-anova/ </uli>\n",
    "    <br> <br> \n",
    "    <uli> https://statistics.laerd.com/spss-tutorials/one-way-anova-using-spss-statistics.php </uli>\n",
    "    <br><br>\n",
    " </ol> \n",
    "\n",
    "</font>"
   ]
  },
  {
   "cell_type": "markdown",
   "metadata": {},
   "source": [
    "<font color=\"#581845\">\n",
    "<h1 align=\"center\"> Data </h1>\n",
    "\n",
    "<h4> The dataset generates random data of voter races with corresponding voter ages. This data can be used to compare the mean of veter-age pairs using a one-way ANOVA test to illustrate which ages among each race usually votes. </h4> \n",
    "<br>\n",
    "<h4> A one-way ANOVA test is used to determine whether two or more independent groups have any statistically significant differences between the groups means. The ANOVA test uses F-tests to identify if there exists a statitsically significatn diffence between the means of the independent groups. An F-test is based on F-statistic to test the hypothesis. An F-statistic conveys the ratio of two variances. </h4> \n",
    "<br>\n",
    "<h4> The null hypothesis is to assume that the voter age means are equal among all voter race groups. </h4> \n",
    "\n",
    "</font> "
   ]
  },
  {
   "cell_type": "code",
   "execution_count": 15,
   "metadata": {},
   "outputs": [],
   "source": [
    "np.random.seed(12)\n",
    "\n",
    "# Voter Races \n",
    "races =   [\"asian\",\"black\",\"hispanic\",\"other\",\"white\"]\n",
    "\n",
    "# Generate random data\n",
    "voter_race = np.random.choice(a= races,\n",
    "                              p = [0.05, 0.15 ,0.25, 0.05, 0.5],\n",
    "                              size=1000)\n",
    "\n",
    "voter_age = stats.poisson.rvs(loc=18,\n",
    "                              mu=30,\n",
    "                              size=1000)\n",
    "\n",
    "# Group age data by race\n",
    "voter_frame = pd.DataFrame({\"race\":voter_race,\"age\":voter_age})\n",
    "groups = voter_frame.groupby(\"race\").groups\n",
    "\n",
    "# Etract individual groups\n",
    "asian = voter_age[groups[\"asian\"]]\n",
    "black = voter_age[groups[\"black\"]]\n",
    "hispanic = voter_age[groups[\"hispanic\"]]\n",
    "other = voter_age[groups[\"other\"]]\n",
    "white = voter_age[groups[\"white\"]]"
   ]
  },
  {
   "cell_type": "markdown",
   "metadata": {},
   "source": [
    "<font color=\"#581845\">\n",
    "      <h1 align=\"center\"> Explatory Data Analysis </h1>\n",
    "</font> "
   ]
  },
  {
   "cell_type": "markdown",
   "metadata": {},
   "source": [
    "<h4> The F statistic of the ANOVA test shows an F statistic value of 1.77. This illustrates that the mean age among voters of differing races (asian, black, hispanic, other, white) are not the same as the F statistic value does not equal to 1. </h4> "
   ]
  },
  {
   "cell_type": "code",
   "execution_count": 16,
   "metadata": {},
   "outputs": [
    {
     "data": {
      "text/plain": [
       "F_onewayResult(statistic=1.7744689357329695, pvalue=0.13173183201930463)"
      ]
     },
     "execution_count": 16,
     "metadata": {},
     "output_type": "execute_result"
    }
   ],
   "source": [
    "# Perform the ANOVA\n",
    "stats.f_oneway(asian, black, hispanic, other, white)"
   ]
  },
  {
   "cell_type": "markdown",
   "metadata": {},
   "source": [
    "<h4> Another dataset of random voter races was populated. This time the age distributin for white ages was different. The ANOVA test indicates that the F statistic is 10.16 for this distribution. This illustrates that the mean age among voters of different races are still not the same as the F statistic value does not equal to 1. </h4>"
   ]
  },
  {
   "cell_type": "code",
   "execution_count": 17,
   "metadata": {},
   "outputs": [
    {
     "ename": "SyntaxError",
     "evalue": "invalid syntax (<ipython-input-17-e2505122287c>, line 15)",
     "output_type": "error",
     "traceback": [
      "\u001b[1;36m  File \u001b[1;32m\"<ipython-input-17-e2505122287c>\"\u001b[1;36m, line \u001b[1;32m15\u001b[0m\n\u001b[1;33m    size=1000)\u001b[0m\n\u001b[1;37m       ^\u001b[0m\n\u001b[1;31mSyntaxError\u001b[0m\u001b[1;31m:\u001b[0m invalid syntax\n"
     ]
    }
   ],
   "source": [
    "np.random.seed(12)\n",
    "\n",
    "# Generate random data\n",
    "voter_race = np.random.choice(a= races,\n",
    "                              p = [0.05, 0.15 ,0.25, 0.05, 0.5],\n",
    "                              size=1000)\n",
    "\n",
    "# Use a different distribution for white ages\n",
    "white_ages = stats.poisson.rvs(loc=18, \n",
    "                              mu=32,\n",
    "                              size=1000)\n",
    "\n",
    "voter_age = stats.poisson.rvs(loc=18,\n",
    "                              mu=30,iu\n",
    "                              size=1000)\n",
    "\n",
    "voter_age = np.where(voter_race==\"white\", white_ages, voter_age)\n",
    "\n",
    "# Group age data by race\n",
    "voter_frame = pd.DataFrame({\"race\":voter_race,\"age\":voter_age})\n",
    "groups = voter_frame.groupby(\"race\").groups   \n",
    "\n",
    "# Extract individual groups\n",
    "asian = voter_age[groups[\"asian\"]]\n",
    "black = voter_age[groups[\"black\"]]\n",
    "hispanic = voter_age[groups[\"hispanic\"]]\n",
    "other = voter_age[groups[\"other\"]]\n",
    "white = voter_age[groups[\"white\"]]\n",
    "\n",
    "# Perform the ANOVA\n",
    "stats.f_oneway(asian, black, hispanic, other, white)"
   ]
  },
  {
   "cell_type": "markdown",
   "metadata": {},
   "source": [
    "<h4> Illustrated below are t-tests that have been conducted to show relationships between the voters races. The p-values below suggest how the mean age of white voters differs in comparison to ther race groups.There may be an errors that arise from using unadjusted pairwaise t-test that overestimate the significance. To account for this possible error, the Bonferroni correction can be applied for multiple comparisons. </h4>\n",
    "\n",
    "<h4> What is The Bonferroni Correction? <br> <br> The Bonferroni Correction is a method for solving the problems associated with multiple comparisons. The method compensates for the increase in Type 1 error as a rare event is more likely when observed null hypthesis is low and there are multiple hypothesis being tested. It is compensated by testing each individual hypothesis at a significance level of alpha divided by m. Alpha is the desired overall alpha and the m is the number of hypothesis that are there. </h4> "
   ]
  },
  {
   "cell_type": "code",
   "execution_count": null,
   "metadata": {},
   "outputs": [],
   "source": [
    "# Get all race pairs\n",
    "race_pairs = []\n",
    "\n",
    "for race1 in range(4):\n",
    "    for race2  in range(race1+1,5):\n",
    "        race_pairs.append((races[race1], races[race2]))\n",
    "\n",
    "# Conduct t-test on each pair\n",
    "for race1, race2 in race_pairs: \n",
    "    print(race1, race2)\n",
    "    print(stats.ttest_ind(voter_age[groups[race1]], \n",
    "                          voter_age[groups[race2]]))  "
   ]
  },
  {
   "cell_type": "markdown",
   "metadata": {},
   "source": [
    "<h4> Another method to account for the multiple comparison issue with having an increase in Type 1 error is the Turkey test. </h4> \n",
    "\n",
    "<h4>What is the turkey test? <br><br> The turkey test is used to determine which means amongst a set of means differ from the rest. The test compares all possible pairs of means. It uses the formula: Mi-Mj/(sqrt(MS/n)). The numerator of Mi-Mj indicates the difference between the pairs of means. The demoninator is the square root of the mean square within (MS) divided by the number of groups (n).</h4>\n",
    "\n",
    "<h4>What is the output of the turkey test in this dataset? <br><br> The turkey test indicates in this dataset how the null hypothesis can be rejected for three pairs that include the \"white\" race category. This shows that the \"white\" race is different from the other groups. However, the \"asian\" race groups confidence interval overlaps with the \"white\" race groups.</h4>"
   ]
  },
  {
   "cell_type": "code",
   "execution_count": null,
   "metadata": {},
   "outputs": [],
   "source": [
    "from statsmodels.stats.multicomp import pairwise_tukeyhsd\n",
    "\n",
    "tukey = pairwise_tukeyhsd(endog=voter_age,     # Data\n",
    "                          groups=voter_race,   # Groups\n",
    "                          alpha=0.05)          # Significance level\n",
    "\n",
    "tukey.plot_simultaneous()    # Plot group confidence intervals\n",
    "plt.vlines(x=49.57,ymin=-0.5,ymax=4.5, color=\"red\")\n",
    "\n",
    "tukey.summary()              # See test summary"
   ]
  },
  {
   "cell_type": "markdown",
   "metadata": {},
   "source": [
    "<font color=\"#581845\">\n",
    "<h1 align=\"center\"> Conclusion </h1>\n",
    "\n",
    "<h4> In conclusion, the ANOVA test illustrates whether the mean ages of voters varies amongs different race catergory groups. It is seen that the null hypthesis is rejected as the ANOVA test shows that the F statistic is not equal to 1 for the different race catergories to see whether the mean ages are the same. \n",
    "\n",
    "<br> <br> \n",
    "<ol> \n",
    "    <uli> This lab demonstrates using Jupyter to identify: </uli> \n",
    "    <br> \n",
    "        <uli> - Generate random data as input for a test </uli> \n",
    "    <br> \n",
    "        <uli> - Compare the mean across levels of one categorical variable using a one-way ANOVA test </uli> \n",
    "    \n",
    "</ol> \n",
    "\n",
    "\n",
    "</h4> \n",
    "</font> "
   ]
  },
  {
   "cell_type": "code",
   "execution_count": null,
   "metadata": {},
   "outputs": [],
   "source": []
  }
 ],
 "metadata": {
  "kernelspec": {
   "display_name": "Python 3",
   "language": "python",
   "name": "python3"
  },
  "language_info": {
   "codemirror_mode": {
    "name": "ipython",
    "version": 3
   },
   "file_extension": ".py",
   "mimetype": "text/x-python",
   "name": "python",
   "nbconvert_exporter": "python",
   "pygments_lexer": "ipython3",
   "version": "3.6.5"
  }
 },
 "nbformat": 4,
 "nbformat_minor": 2
}
